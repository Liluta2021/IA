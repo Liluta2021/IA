{
 "cells": [
  {
   "cell_type": "code",
   "execution_count": 5,
   "id": "8c879cee",
   "metadata": {},
   "outputs": [],
   "source": [
    "#Functii\n",
    "def mean(*seq):\n",
    "    sumi = 0\n",
    "    for num in seq:\n",
    "        sumi += num\n",
    "    return sumi / len(seq)"
   ]
  },
  {
   "cell_type": "code",
   "execution_count": 6,
   "id": "b3f1ceac",
   "metadata": {},
   "outputs": [
    {
     "data": {
      "text/plain": [
       "2.0"
      ]
     },
     "execution_count": 6,
     "metadata": {},
     "output_type": "execute_result"
    }
   ],
   "source": [
    "mean(1, 2, 3)"
   ]
  },
  {
   "cell_type": "markdown",
   "id": "dcaec130",
   "metadata": {},
   "source": [
    "class BackingForm:\n",
    "filling = None\n",
    "shape = \n",
    "\n"
   ]
  }
 ],
 "metadata": {
  "kernelspec": {
   "display_name": "Python 3",
   "language": "python",
   "name": "python3"
  },
  "language_info": {
   "codemirror_mode": {
    "name": "ipython",
    "version": 3
   },
   "file_extension": ".py",
   "mimetype": "text/x-python",
   "name": "python",
   "nbconvert_exporter": "python",
   "pygments_lexer": "ipython3",
   "version": "3.7.8"
  }
 },
 "nbformat": 4,
 "nbformat_minor": 5
}
