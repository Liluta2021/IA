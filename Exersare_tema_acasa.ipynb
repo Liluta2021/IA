{
 "cells": [
  {
   "cell_type": "code",
   "execution_count": 2,
   "id": "ef40b0d8",
   "metadata": {},
   "outputs": [],
   "source": [
    "var=1"
   ]
  },
  {
   "cell_type": "code",
   "execution_count": 3,
   "id": "211cd7e0",
   "metadata": {},
   "outputs": [
    {
     "data": {
      "text/plain": [
       "1"
      ]
     },
     "execution_count": 3,
     "metadata": {},
     "output_type": "execute_result"
    }
   ],
   "source": [
    "var"
   ]
  },
  {
   "cell_type": "code",
   "execution_count": 4,
   "id": "9db3da81",
   "metadata": {},
   "outputs": [
    {
     "name": "stdout",
     "output_type": "stream",
     "text": [
      "1\n"
     ]
    }
   ],
   "source": [
    "print(var)"
   ]
  },
  {
   "cell_type": "code",
   "execution_count": 6,
   "id": "7ea118bb",
   "metadata": {},
   "outputs": [
    {
     "data": {
      "text/plain": [
       "int"
      ]
     },
     "execution_count": 6,
     "metadata": {},
     "output_type": "execute_result"
    }
   ],
   "source": [
    "type(var)\n"
   ]
  },
  {
   "cell_type": "code",
   "execution_count": 7,
   "id": "4b3fbf14",
   "metadata": {},
   "outputs": [],
   "source": [
    "var=2.5"
   ]
  },
  {
   "cell_type": "code",
   "execution_count": 8,
   "id": "6873b4bc",
   "metadata": {},
   "outputs": [
    {
     "data": {
      "text/plain": [
       "float"
      ]
     },
     "execution_count": 8,
     "metadata": {},
     "output_type": "execute_result"
    }
   ],
   "source": [
    "type(var)"
   ]
  },
  {
   "cell_type": "code",
   "execution_count": 9,
   "id": "03b17950",
   "metadata": {},
   "outputs": [],
   "source": [
    "var=True"
   ]
  },
  {
   "cell_type": "code",
   "execution_count": 10,
   "id": "5acdedd8",
   "metadata": {},
   "outputs": [],
   "source": [
    "var=False"
   ]
  },
  {
   "cell_type": "code",
   "execution_count": 11,
   "id": "a4f1c55e",
   "metadata": {},
   "outputs": [
    {
     "name": "stdout",
     "output_type": "stream",
     "text": [
      "False\n"
     ]
    }
   ],
   "source": [
    "print(var)"
   ]
  },
  {
   "cell_type": "code",
   "execution_count": 12,
   "id": "85814db4",
   "metadata": {},
   "outputs": [],
   "source": [
    "var = 'c'"
   ]
  },
  {
   "cell_type": "code",
   "execution_count": 13,
   "id": "d6f95d53",
   "metadata": {},
   "outputs": [],
   "source": [
    "var = 'word'"
   ]
  },
  {
   "cell_type": "code",
   "execution_count": 14,
   "id": "d31d3841",
   "metadata": {},
   "outputs": [
    {
     "name": "stdout",
     "output_type": "stream",
     "text": [
      "word\n"
     ]
    }
   ],
   "source": [
    "print(var)"
   ]
  },
  {
   "cell_type": "code",
   "execution_count": 15,
   "id": "1dd7c85f",
   "metadata": {},
   "outputs": [
    {
     "data": {
      "text/plain": [
       "str"
      ]
     },
     "execution_count": 15,
     "metadata": {},
     "output_type": "execute_result"
    }
   ],
   "source": [
    "type(var)"
   ]
  },
  {
   "cell_type": "code",
   "execution_count": 17,
   "id": "480fcaa0",
   "metadata": {},
   "outputs": [],
   "source": [
    "num1=4\n",
    "num2=6"
   ]
  },
  {
   "cell_type": "code",
   "execution_count": 18,
   "id": "c682b1e9",
   "metadata": {},
   "outputs": [],
   "source": [
    "res=num1+num2"
   ]
  },
  {
   "cell_type": "code",
   "execution_count": 19,
   "id": "1936ac19",
   "metadata": {},
   "outputs": [
    {
     "data": {
      "text/plain": [
       "10"
      ]
     },
     "execution_count": 19,
     "metadata": {},
     "output_type": "execute_result"
    }
   ],
   "source": [
    "res"
   ]
  },
  {
   "cell_type": "code",
   "execution_count": 20,
   "id": "26698247",
   "metadata": {},
   "outputs": [
    {
     "data": {
      "text/plain": [
       "4"
      ]
     },
     "execution_count": 20,
     "metadata": {},
     "output_type": "execute_result"
    }
   ],
   "source": [
    "num1"
   ]
  },
  {
   "cell_type": "code",
   "execution_count": 21,
   "id": "eeaf933b",
   "metadata": {},
   "outputs": [],
   "source": [
    "num1+=num2"
   ]
  },
  {
   "cell_type": "code",
   "execution_count": 22,
   "id": "49613e3f",
   "metadata": {},
   "outputs": [
    {
     "data": {
      "text/plain": [
       "10"
      ]
     },
     "execution_count": 22,
     "metadata": {},
     "output_type": "execute_result"
    }
   ],
   "source": [
    "num1"
   ]
  },
  {
   "cell_type": "code",
   "execution_count": 23,
   "id": "509b2c1c",
   "metadata": {},
   "outputs": [
    {
     "data": {
      "text/plain": [
       "10"
      ]
     },
     "execution_count": 23,
     "metadata": {},
     "output_type": "execute_result"
    }
   ],
   "source": [
    "num1"
   ]
  },
  {
   "cell_type": "code",
   "execution_count": 24,
   "id": "b3b00ef3",
   "metadata": {},
   "outputs": [],
   "source": [
    "res=num1-num2"
   ]
  },
  {
   "cell_type": "code",
   "execution_count": 25,
   "id": "e6d8c2cf",
   "metadata": {},
   "outputs": [
    {
     "data": {
      "text/plain": [
       "4"
      ]
     },
     "execution_count": 25,
     "metadata": {},
     "output_type": "execute_result"
    }
   ],
   "source": [
    "res"
   ]
  },
  {
   "cell_type": "code",
   "execution_count": 26,
   "id": "934fea25",
   "metadata": {},
   "outputs": [],
   "source": [
    "num1-=num2"
   ]
  },
  {
   "cell_type": "code",
   "execution_count": 27,
   "id": "b3bb3ec5",
   "metadata": {},
   "outputs": [
    {
     "data": {
      "text/plain": [
       "4"
      ]
     },
     "execution_count": 27,
     "metadata": {},
     "output_type": "execute_result"
    }
   ],
   "source": [
    "num1"
   ]
  },
  {
   "cell_type": "code",
   "execution_count": 28,
   "id": "e6a980d6",
   "metadata": {},
   "outputs": [],
   "source": [
    "res=num1*num2"
   ]
  },
  {
   "cell_type": "code",
   "execution_count": 29,
   "id": "1f846e5d",
   "metadata": {},
   "outputs": [
    {
     "data": {
      "text/plain": [
       "24"
      ]
     },
     "execution_count": 29,
     "metadata": {},
     "output_type": "execute_result"
    }
   ],
   "source": [
    "res"
   ]
  },
  {
   "cell_type": "code",
   "execution_count": 30,
   "id": "8f9fe1b2",
   "metadata": {},
   "outputs": [],
   "source": [
    "num1*=num2"
   ]
  },
  {
   "cell_type": "code",
   "execution_count": 31,
   "id": "68878fc8",
   "metadata": {},
   "outputs": [
    {
     "data": {
      "text/plain": [
       "24"
      ]
     },
     "execution_count": 31,
     "metadata": {},
     "output_type": "execute_result"
    }
   ],
   "source": [
    "num1"
   ]
  },
  {
   "cell_type": "code",
   "execution_count": 32,
   "id": "4c99b3fb",
   "metadata": {},
   "outputs": [
    {
     "data": {
      "text/plain": [
       "24"
      ]
     },
     "execution_count": 32,
     "metadata": {},
     "output_type": "execute_result"
    }
   ],
   "source": [
    "num1"
   ]
  },
  {
   "cell_type": "code",
   "execution_count": 33,
   "id": "bd68640a",
   "metadata": {},
   "outputs": [
    {
     "data": {
      "text/plain": [
       "6"
      ]
     },
     "execution_count": 33,
     "metadata": {},
     "output_type": "execute_result"
    }
   ],
   "source": [
    "num2"
   ]
  },
  {
   "cell_type": "code",
   "execution_count": 34,
   "id": "e2a6e4bf",
   "metadata": {},
   "outputs": [],
   "source": [
    "res=num1/num2"
   ]
  },
  {
   "cell_type": "code",
   "execution_count": 35,
   "id": "e9ce3e24",
   "metadata": {},
   "outputs": [
    {
     "data": {
      "text/plain": [
       "4.0"
      ]
     },
     "execution_count": 35,
     "metadata": {},
     "output_type": "execute_result"
    }
   ],
   "source": [
    "res"
   ]
  },
  {
   "cell_type": "code",
   "execution_count": 36,
   "id": "d7b67faa",
   "metadata": {},
   "outputs": [
    {
     "data": {
      "text/plain": [
       "float"
      ]
     },
     "execution_count": 36,
     "metadata": {},
     "output_type": "execute_result"
    }
   ],
   "source": [
    "type(res)"
   ]
  },
  {
   "cell_type": "code",
   "execution_count": 37,
   "id": "53a413a5",
   "metadata": {},
   "outputs": [],
   "source": [
    "res=7/3.5"
   ]
  },
  {
   "cell_type": "code",
   "execution_count": 38,
   "id": "0ec881a2",
   "metadata": {},
   "outputs": [
    {
     "data": {
      "text/plain": [
       "2.0"
      ]
     },
     "execution_count": 38,
     "metadata": {},
     "output_type": "execute_result"
    }
   ],
   "source": [
    "res"
   ]
  },
  {
   "cell_type": "code",
   "execution_count": 39,
   "id": "323c0b74",
   "metadata": {},
   "outputs": [],
   "source": [
    "res=5//2"
   ]
  },
  {
   "cell_type": "code",
   "execution_count": 40,
   "id": "75bc7554",
   "metadata": {},
   "outputs": [
    {
     "data": {
      "text/plain": [
       "2"
      ]
     },
     "execution_count": 40,
     "metadata": {},
     "output_type": "execute_result"
    }
   ],
   "source": [
    "res"
   ]
  },
  {
   "cell_type": "code",
   "execution_count": 41,
   "id": "ea0fdf0c",
   "metadata": {},
   "outputs": [],
   "source": [
    "res=5%3"
   ]
  },
  {
   "cell_type": "code",
   "execution_count": 42,
   "id": "75a3ad1d",
   "metadata": {},
   "outputs": [
    {
     "data": {
      "text/plain": [
       "2"
      ]
     },
     "execution_count": 42,
     "metadata": {},
     "output_type": "execute_result"
    }
   ],
   "source": [
    "res"
   ]
  },
  {
   "cell_type": "code",
   "execution_count": 46,
   "id": "79ffca4b",
   "metadata": {},
   "outputs": [],
   "source": [
    "num1=9\n",
    "num2=2"
   ]
  },
  {
   "cell_type": "code",
   "execution_count": 47,
   "id": "188cb920",
   "metadata": {},
   "outputs": [],
   "source": [
    "res=num1**num2"
   ]
  },
  {
   "cell_type": "code",
   "execution_count": 48,
   "id": "43cbe8d7",
   "metadata": {},
   "outputs": [
    {
     "data": {
      "text/plain": [
       "81"
      ]
     },
     "execution_count": 48,
     "metadata": {},
     "output_type": "execute_result"
    }
   ],
   "source": [
    "res"
   ]
  },
  {
   "cell_type": "code",
   "execution_count": 49,
   "id": "72e13184",
   "metadata": {},
   "outputs": [],
   "source": [
    "import math"
   ]
  },
  {
   "cell_type": "code",
   "execution_count": 50,
   "id": "ddc1538f",
   "metadata": {},
   "outputs": [
    {
     "data": {
      "text/plain": [
       "8.0"
      ]
     },
     "execution_count": 50,
     "metadata": {},
     "output_type": "execute_result"
    }
   ],
   "source": [
    "math.pow(2,3)"
   ]
  },
  {
   "cell_type": "code",
   "execution_count": 51,
   "id": "b29ec1bc",
   "metadata": {},
   "outputs": [
    {
     "data": {
      "text/plain": [
       "2.0"
      ]
     },
     "execution_count": 51,
     "metadata": {},
     "output_type": "execute_result"
    }
   ],
   "source": [
    "math.sqrt(4)"
   ]
  },
  {
   "cell_type": "code",
   "execution_count": 52,
   "id": "8491a206",
   "metadata": {},
   "outputs": [
    {
     "data": {
      "text/plain": [
       "1.2599210498948732"
      ]
     },
     "execution_count": 52,
     "metadata": {},
     "output_type": "execute_result"
    }
   ],
   "source": [
    "math.pow(2,1/3)"
   ]
  },
  {
   "cell_type": "code",
   "execution_count": 53,
   "id": "00998b0f",
   "metadata": {},
   "outputs": [
    {
     "data": {
      "text/plain": [
       "5"
      ]
     },
     "execution_count": 53,
     "metadata": {},
     "output_type": "execute_result"
    }
   ],
   "source": [
    "math.ceil(4.5)"
   ]
  },
  {
   "cell_type": "code",
   "execution_count": 54,
   "id": "638ab672",
   "metadata": {},
   "outputs": [
    {
     "data": {
      "text/plain": [
       "4"
      ]
     },
     "execution_count": 54,
     "metadata": {},
     "output_type": "execute_result"
    }
   ],
   "source": [
    "math.floor(4.5)"
   ]
  },
  {
   "cell_type": "code",
   "execution_count": 55,
   "id": "25148c1b",
   "metadata": {},
   "outputs": [
    {
     "data": {
      "text/plain": [
       "True"
      ]
     },
     "execution_count": 55,
     "metadata": {},
     "output_type": "execute_result"
    }
   ],
   "source": [
    "5 == 5"
   ]
  },
  {
   "cell_type": "code",
   "execution_count": 56,
   "id": "67398d01",
   "metadata": {},
   "outputs": [
    {
     "data": {
      "text/plain": [
       "False"
      ]
     },
     "execution_count": 56,
     "metadata": {},
     "output_type": "execute_result"
    }
   ],
   "source": [
    "5 == 6"
   ]
  },
  {
   "cell_type": "code",
   "execution_count": 57,
   "id": "12c67967",
   "metadata": {},
   "outputs": [
    {
     "data": {
      "text/plain": [
       "False"
      ]
     },
     "execution_count": 57,
     "metadata": {},
     "output_type": "execute_result"
    }
   ],
   "source": [
    "7 > 8"
   ]
  },
  {
   "cell_type": "code",
   "execution_count": 58,
   "id": "777bec97",
   "metadata": {},
   "outputs": [],
   "source": [
    "age = 16"
   ]
  },
  {
   "cell_type": "code",
   "execution_count": 63,
   "id": "bfa27a57",
   "metadata": {},
   "outputs": [
    {
     "name": "stdout",
     "output_type": "stream",
     "text": [
      "nu este\n"
     ]
    }
   ],
   "source": [
    "if age >= 18:\n",
    "    print('adult')\n",
    "elif age < 18: \n",
    "    print('nu este')"
   ]
  },
  {
   "cell_type": "code",
   "execution_count": 65,
   "id": "a9e29ae1",
   "metadata": {},
   "outputs": [
    {
     "name": "stdout",
     "output_type": "stream",
     "text": [
      "esti un adult\n"
     ]
    }
   ],
   "source": [
    "age = 19\n",
    "if age < 0:\n",
    "    print('nu ai introdus varsta corecta')\n",
    "elif age > 18:\n",
    "    print('esti un adult')\n",
    "else:\n",
    "    print('nu este ')"
   ]
  },
  {
   "cell_type": "code",
   "execution_count": 66,
   "id": "5fa9c188",
   "metadata": {},
   "outputs": [
    {
     "name": "stdout",
     "output_type": "stream",
     "text": [
      "domnisor\n"
     ]
    }
   ],
   "source": [
    "maried_status = False\n",
    "gender = 'male'\n",
    "\n",
    "if gender == 'male' and not maried_status:\n",
    "    print('domnisor')\n",
    "elif gender == 'male' and maried_status:\n",
    "    print('domn')\n",
    "    "
   ]
  },
  {
   "cell_type": "code",
   "execution_count": 2,
   "id": "0e51b7c7",
   "metadata": {},
   "outputs": [],
   "source": [
    "a=1\n",
    "b=5\n",
    "c=6"
   ]
  },
  {
   "cell_type": "code",
   "execution_count": 3,
   "id": "dfb616df",
   "metadata": {},
   "outputs": [],
   "source": [
    "d=(b**2)-(4*a*c)"
   ]
  },
  {
   "cell_type": "code",
   "execution_count": 4,
   "id": "c14c6259",
   "metadata": {},
   "outputs": [
    {
     "data": {
      "text/plain": [
       "1"
      ]
     },
     "execution_count": 4,
     "metadata": {},
     "output_type": "execute_result"
    }
   ],
   "source": [
    "d"
   ]
  },
  {
   "cell_type": "code",
   "execution_count": 5,
   "id": "21323059",
   "metadata": {},
   "outputs": [],
   "source": [
    "import cmath"
   ]
  },
  {
   "cell_type": "code",
   "execution_count": 9,
   "id": "28e889a3",
   "metadata": {},
   "outputs": [],
   "source": [
    "sol1 = (-b-cmath.sqrt(d))/(2*a)\n",
    "sol2 = (-b+cmath.sqrt(d))/(2*a)"
   ]
  },
  {
   "cell_type": "code",
   "execution_count": 10,
   "id": "085b9a4c",
   "metadata": {},
   "outputs": [
    {
     "name": "stdout",
     "output_type": "stream",
     "text": [
      "solutia este\n"
     ]
    }
   ],
   "source": [
    "print('solutia este'.format(sol1,sol2))"
   ]
  },
  {
   "cell_type": "code",
   "execution_count": 11,
   "id": "7f29063c",
   "metadata": {},
   "outputs": [
    {
     "data": {
      "text/plain": [
       "(-3+0j)"
      ]
     },
     "execution_count": 11,
     "metadata": {},
     "output_type": "execute_result"
    }
   ],
   "source": [
    "sol1"
   ]
  },
  {
   "cell_type": "code",
   "execution_count": 12,
   "id": "34e24956",
   "metadata": {},
   "outputs": [
    {
     "data": {
      "text/plain": [
       "(-2+0j)"
      ]
     },
     "execution_count": 12,
     "metadata": {},
     "output_type": "execute_result"
    }
   ],
   "source": [
    "sol2"
   ]
  },
  {
   "cell_type": "code",
   "execution_count": 13,
   "id": "8ad2dd77",
   "metadata": {},
   "outputs": [
    {
     "name": "stdout",
     "output_type": "stream",
     "text": [
      "Distanta este :  4.242640687119285\n"
     ]
    }
   ],
   "source": [
    "import math\n",
    "x1 = 5\n",
    "y1 = 6\n",
    "x2 = 8\n",
    "y2 = 9\n",
    "\n",
    "distanta = math.sqrt((x2 - x1) ** 2 +(y2 - y1) ** 2)\n",
    "print('Distanta este : ',distanta)"
   ]
  },
  {
   "cell_type": "code",
   "execution_count": null,
   "id": "fd9eabaa",
   "metadata": {},
   "outputs": [],
   "source": []
  }
 ],
 "metadata": {
  "kernelspec": {
   "display_name": "Python 3",
   "language": "python",
   "name": "python3"
  },
  "language_info": {
   "codemirror_mode": {
    "name": "ipython",
    "version": 3
   },
   "file_extension": ".py",
   "mimetype": "text/x-python",
   "name": "python",
   "nbconvert_exporter": "python",
   "pygments_lexer": "ipython3",
   "version": "3.7.8"
  }
 },
 "nbformat": 4,
 "nbformat_minor": 5
}
